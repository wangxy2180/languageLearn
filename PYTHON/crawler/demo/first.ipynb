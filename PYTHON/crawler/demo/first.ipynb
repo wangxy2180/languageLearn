{
 "cells": [
  {
   "cell_type": "markdown",
   "source": [
    "request 的基本使用"
   ],
   "metadata": {
    "collapsed": false,
    "pycharm": {
     "name": "#%% md\n"
    }
   }
  },
  {
   "cell_type": "code",
   "execution_count": 4,
   "metadata": {
    "collapsed": true
   },
   "outputs": [
    {
     "name": "stdout",
     "output_type": "stream",
     "text": [
      "{'BAIDUID': '3BDFC59F337D1C3E2522E2380D99C2D5:FG=1', 'BIDUPSID': '3BDFC59F337D1C3E2522E2380D99C2D5', 'H_PS_PSSID': '32816_1429_33046_33060_33098_33101_31708', 'PSTM': '1606209401', 'BDSVRTM': '0', 'BD_HOME': '1'}\n",
      "{'Bdpagetype': '1', 'Bdqid': '0xe9afc0cb00041d16', 'Cache-Control': 'private', 'Connection': 'keep-alive', 'Content-Encoding': 'gzip', 'Content-Type': 'text/html;charset=utf-8', 'Date': 'Tue, 24 Nov 2020 09:16:41 GMT', 'Expires': 'Tue, 24 Nov 2020 09:16:29 GMT', 'Server': 'BWS/1.1', 'Set-Cookie': 'BIDUPSID=3BDFC59F337D1C3E2522E2380D99C2D5; expires=Thu, 31-Dec-37 23:55:55 GMT; max-age=2147483647; path=/; domain=.baidu.com, PSTM=1606209401; expires=Thu, 31-Dec-37 23:55:55 GMT; max-age=2147483647; path=/; domain=.baidu.com, BDSVRTM=0; path=/, BD_HOME=1; path=/, H_PS_PSSID=32816_1429_33046_33060_33098_33101_31708; path=/; domain=.baidu.com, BAIDUID=3BDFC59F337D1C3E2522E2380D99C2D5:FG=1; Path=/; Domain=baidu.com; Max-Age=31536000', 'Traceid': '1606209401038057421816838889509872737558', 'X-Ua-Compatible': 'IE=Edge,chrome=1', 'Transfer-Encoding': 'chunked'}\n"
     ]
    }
   ],
   "source": [
    "import requests\n",
    "url = 'http://www.baidu.com'\n",
    "\n",
    "response=requests.get(url)\n",
    "\n",
    "# text返回的是str类型，content是bytes类型\n",
    "# print(response.text)\n",
    "\n",
    "content=response.content\n",
    "html = content.decode('utf-8')\n",
    "# print(html)\n",
    "\n",
    "# 对于cookie的操作\n",
    "# 返回的是一个RequestCookieJar对象\n",
    "cookies = response.cookies\n",
    "# 将那个对象转为dict\n",
    "cookies_dict=requests.utils.dict_from_cookiejar(cookies)\n",
    "# 将dict转为那个对象\n",
    "print(cookies_dict)\n",
    "# requests.utils.cookiejar_from_dict()\n",
    "# 对cookie进行操作，把字典添加到cookiejar\n",
    "# requests.utils.add_dict_to_cookiejar()\n",
    "\n",
    "headers = response.headers\n",
    "print(headers)"
   ]
  },
  {
   "cell_type": "markdown",
   "source": [
    "自定义请求头"
   ],
   "metadata": {
    "collapsed": false,
    "pycharm": {
     "name": "#%% md\n"
    }
   }
  },
  {
   "cell_type": "code",
   "execution_count": 3,
   "outputs": [],
   "source": [
    "import requests\n",
    "url='http://www.baidu.com'\n",
    "headers={\n",
    "    'User-Agent': \\\n",
    "        'Mozilla/5.0 (Windows NT 10.0; Win64; x64) \\\n",
    "        AppleWebKit/537.36 (KHTML, like Gecko) \\\n",
    "        Chrome/87.0.4280.66 Safari/537.36'\n",
    "}\n",
    "# 发送自定义请求头\n",
    "response=requests.get(url,headers=headers)\n",
    "html=response.text"
   ],
   "metadata": {
    "collapsed": false,
    "pycharm": {
     "name": "#%%\n"
    }
   }
  },
  {
   "cell_type": "markdown",
   "source": [
    "发送GET请求"
   ],
   "metadata": {
    "collapsed": false,
    "pycharm": {
     "name": "#%% md\n"
    }
   }
  },
  {
   "cell_type": "code",
   "execution_count": null,
   "outputs": [],
   "source": [
    "import requests\n",
    "\n",
    "url='http://www.baidu.com'\n",
    "\n",
    "headers={\n",
    "    'User-Agent':\n",
    "        'Mozilla/5.0 (Windows NT 10.0; Win64; x64)\\\n",
    "        AppleWebKit/537.36 (KHTML, like Gecko) \\\n",
    "        Chrome/87.0.4280.66 Safari/537.36'\n",
    "}\n",
    "# 定义get参数\n",
    "params={\n",
    "    'kw':'hello'\n",
    "}\n",
    "response=requests.get(url,headers=headers,params=params)\n",
    "html=response.text\n",
    "# print(html)"
   ],
   "metadata": {
    "collapsed": false,
    "pycharm": {
     "name": "#%%\n"
    }
   }
  },
  {
   "cell_type": "markdown",
   "source": [
    "发送POST请求"
   ],
   "metadata": {
    "collapsed": false,
    "pycharm": {
     "name": "#%% md\n"
    }
   }
  },
  {
   "cell_type": "code",
   "execution_count": null,
   "outputs": [],
   "source": [
    "import requests\n",
    "\n",
    "url='http://www.baidu.com'\n",
    "\n",
    "headers={\n",
    "    'User-Agent':\n",
    "        'Mozilla/5.0 (Windows NT 10.0; Win64; x64)\\\n",
    "        AppleWebKit/537.36 (KHTML, like Gecko) \\\n",
    "        Chrome/87.0.4280.66 Safari/537.36'\n",
    "}\n",
    "# 定义get参数\n",
    "data={\n",
    "    'kw':'hello'\n",
    "}\n",
    "response=requests.post(url,headers=headers,data=data)\n",
    "response=requests.post(url,headers=headers,params=params)\n",
    "html=response.text"
   ],
   "metadata": {
    "collapsed": false,
    "pycharm": {
     "name": "#%%\n"
    }
   }
  },
  {
   "cell_type": "markdown",
   "source": [
    "保存图片"
   ],
   "metadata": {
    "collapsed": false,
    "pycharm": {
     "name": "#%% md\n"
    }
   }
  },
  {
   "cell_type": "code",
   "execution_count": null,
   "outputs": [],
   "source": [
    "import requests\n",
    "# 这个是百度的标志\n",
    "url='https://www.baidu.com/img/PCtm_d9c8750bed0b3c7d089fa7d55720d6cf.png'\n",
    "# 获取响应\n",
    "response=requests.get(url)\n",
    "# 必须使用content保存文件\n",
    "with open('image.png','wb') as f:\n",
    "    f.write(response.content)"
   ],
   "metadata": {
    "collapsed": false,
    "pycharm": {
     "name": "#%%\n"
    }
   }
  },
  {
   "cell_type": "markdown",
   "source": [
    "使用代理服务器 & 重试"
   ],
   "metadata": {
    "collapsed": false,
    "pycharm": {
     "name": "#%% md\n"
    }
   }
  },
  {
   "cell_type": "code",
   "execution_count": null,
   "outputs": [],
   "source": [
    "import requests\n",
    "from retrying import retry\n",
    "\n",
    "# 使用装饰器进行重试设置\n",
    "# 最大重新访问次数\n",
    "@retry(stop_max_attempt_number=3)\n",
    "def parse_url(url):\n",
    "    print('访问url:',url)\n",
    "    proxies={\n",
    "        \"http\":'http://124.235.135.210:80'\n",
    "    }\n",
    "    response=requests.get(url,proxies=proxies,timeout=5)\n",
    "    return response.text\n",
    "\n",
    "if __name__=='__main__':\n",
    "    url='http://www.baidu.com'\n",
    "    try:\n",
    "        html=parse_url(url)\n",
    "        print(html)\n",
    "    except Exception as e:\n",
    "        print(e)"
   ],
   "metadata": {
    "collapsed": false,
    "pycharm": {
     "name": "#%%\n"
    }
   }
  },
  {
   "cell_type": "markdown",
   "source": [
    "urllib"
   ],
   "metadata": {
    "collapsed": false,
    "pycharm": {
     "name": "#%% md\n"
    }
   }
  },
  {
   "cell_type": "code",
   "execution_count": null,
   "outputs": [],
   "source": [
    "import urllib3.request\n",
    "import urllib.request\n",
    "\n",
    "# github比较慢\n",
    "url='https://github.com'\n",
    "# url='https://www.baidu.com'\n",
    "\n",
    "# urllib需要先构造请求，再发起\n",
    "# 可以看出requests库更方便一点\n",
    "req=urllib.request.Request(url=url)\n",
    "response=urllib.request.urlopen(req)\n",
    "with open('github.txt','wb')as f:\n",
    "    f.write(response.read())\n",
    "\n",
    "http=urllib3.PoolManager()\n",
    "res=http.request(method='GET',url=url)\n",
    "print(res.status)"
   ],
   "metadata": {
    "collapsed": false,
    "pycharm": {
     "name": "#%%\n"
    }
   }
  },
  {
   "cell_type": "markdown",
   "source": [
    "对于结构化数据，如json，xml，可以直接通过模块转为python数据<br>\n",
    "对于非结构化数据，如html，word，需要通过`正则表达式`，`xpath`,`beautifulsoup`"
   ],
   "metadata": {
    "collapsed": false,
    "pycharm": {
     "name": "#%% md\n"
    }
   }
  },
  {
   "cell_type": "markdown",
   "source": [
    "JSON"
   ],
   "metadata": {
    "collapsed": false,
    "pycharm": {
     "name": "#%% md\n"
    }
   }
  },
  {
   "cell_type": "code",
   "execution_count": null,
   "outputs": [],
   "source": [
    "import json\n",
    "# 这里一定要注意，用双引号！！\n",
    "json_str='''{\n",
    "    \"name\":\"mabaoguo\",\n",
    "    \"age\":69,\n",
    "    \"skill\":{\n",
    "        \"skill1\":\"jie\",\n",
    "        \"skill2\":\"hua\",\n",
    "        \"skill3\":\"fa\"\n",
    "    }\n",
    "}'''\n",
    "print('json_str的数据类型',type(json_str))\n",
    "# 字符串转成了字典\n",
    "data=json.loads(json_str)\n",
    "print('data    的数据类型',type(data))\n",
    "# print(data)\n",
    "print('='*50)\n",
    "\n",
    "data ={\n",
    "    \"name\":\"mabaoguo\",\n",
    "    \"age\":69,\n",
    "    \"skill\":{\n",
    "        \"skill1\":\"jie\",\n",
    "        \"skill2\":\"hua\",\n",
    "        \"skill3\":\"fa\"\n",
    "    }\n",
    "}\n",
    "print('data    的数据类型',type(data))\n",
    "# 字典转成了字符串\n",
    "json_str_2=json.dumps(data)\n",
    "print('json_str的数据类型',type(json_str_2))\n",
    "print('='*50)\n",
    "\n",
    "# json文件转python类型\n",
    "with open('data.json','r',encoding='utf-8') as f:\n",
    "    data=json.load(f)\n",
    "    print('data 数据类型',type(data))\n",
    "    print(data)\n",
    "print('='*50)\n",
    "# json.dump python数据类型转json文件\n",
    "data2={\n",
    "    \"name\":\"mabaoguo\",\n",
    "    \"age\":69,\n",
    "    \"skill\":{\n",
    "        \"skill1\":\"jie\",\n",
    "        \"skill2\":\"hua\",\n",
    "        \"skill3\":\"fa\"\n",
    "    }\n",
    "}\n",
    "# 如果没有ensure_ascii=False,他会把中文转为ascii码存储的\n",
    "with open('data2.json','w',encoding='utf-8')as f:\n",
    "    json.dump(data,f,ensure_ascii=False,indent=4)"
   ],
   "metadata": {
    "collapsed": false,
    "pycharm": {
     "name": "#%%\n"
    }
   }
  },
  {
   "cell_type": "markdown",
   "source": [
    "JSONPATH\n",
    "[在线jsonpath调试](http://jsonpath.com/)"
   ],
   "metadata": {
    "collapsed": false,
    "pycharm": {
     "name": "#%% md\n"
    }
   }
  },
  {
   "cell_type": "code",
   "execution_count": null,
   "outputs": [],
   "source": [
    "import json\n",
    "import jsonpath\n",
    "import requests\n",
    "\n",
    "url='http://www.lagou.com/lbs/getAllCitySearchLabels.json'\n",
    "\n",
    "headers={\n",
    "        'User-Agent':\n",
    "        'Mozilla/5.0 (Windows NT 10.0; Win64; x64)\\\n",
    "        AppleWebKit/537.36 (KHTML, like Gecko) \\\n",
    "        Chrome/87.0.4280.66 Safari/537.36'\n",
    "}\n",
    "\n",
    "response=requests.get(url)\n",
    "html=response.text\n",
    "# data=json.loads(html)\n",
    "# 他说我获取的太频繁，经过百度，是拉勾网的独特设计，只能换取读文件了\n",
    "with open('getAllCitySearchLabels.json','r',encoding='utf-8') as f:\n",
    "    data=json.load(f)\n",
    "print(data)\n",
    "cities=jsonpath.jsonpath(data,'$..name')\n",
    "print(cities)\n",
    "print(len(cities))"
   ],
   "metadata": {
    "collapsed": false,
    "pycharm": {
     "name": "#%%\n"
    }
   }
  },
  {
   "cell_type": "markdown",
   "source": [
    "regular expression\n",
    "[这里](https://github.com/Kr1s77/Python-crawler-tutorial-starts-from-zero/blob/master/06%20-%20%E6%AD%A3%E5%88%99%E8%A1%A8%E8%BE%BE%E5%BC%8F%20%E6%8F%90%E5%8F%96%E6%95%B0%E6%8D%AE.md)"
   ],
   "metadata": {
    "collapsed": false,
    "pycharm": {
     "name": "#%% md\n"
    }
   }
  },
  {
   "cell_type": "code",
   "execution_count": null,
   "outputs": [],
   "source": [],
   "metadata": {
    "collapsed": false,
    "pycharm": {
     "name": "#%%\n"
    }
   }
  }
 ],
 "metadata": {
  "kernelspec": {
   "display_name": "Python 3",
   "language": "python",
   "name": "python3"
  },
  "language_info": {
   "codemirror_mode": {
    "name": "ipython",
    "version": 2
   },
   "file_extension": ".py",
   "mimetype": "text/x-python",
   "name": "python",
   "nbconvert_exporter": "python",
   "pygments_lexer": "ipython2",
   "version": "2.7.6"
  }
 },
 "nbformat": 4,
 "nbformat_minor": 0
}